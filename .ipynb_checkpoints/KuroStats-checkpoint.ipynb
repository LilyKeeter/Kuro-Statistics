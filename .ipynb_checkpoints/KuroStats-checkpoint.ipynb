{
 "cells": [
  {
   "cell_type": "code",
   "execution_count": 1,
   "id": "09a2a553",
   "metadata": {},
   "outputs": [],
   "source": [
    "from random import randint\n",
    "import statistics\n",
    "import numpy as np\n",
    "import matplotlib.pyplot as plt\n",
    "\n",
    "def kuroAdd(results, skill, gimmiku, tn):\n",
    "    count = skill;\n",
    "    for i in range(len(results)):\n",
    "        if(results[i] != 4):\n",
    "            count += results[i]\n",
    "        if('expertise' in gimmiku):\n",
    "            if(results[i] == 4 and i+1 <= gimmiku['expertise']):\n",
    "                count += results[i]\n",
    "    if('focus' in gimmiku):\n",
    "        count+= gimmiku['focus']*2\n",
    "    if('accuracy' in gimmiku and count >= tn):\n",
    "        count += gimmiku['accuracy']*4\n",
    "    return count"
   ]
  },
  {
   "cell_type": "code",
   "execution_count": 2,
   "id": "9821b993",
   "metadata": {},
   "outputs": [],
   "source": [
    "def expertise(results, gimmiku):\n",
    "    results.sort()\n",
    "    for i in range(gimmiku['expertise']):\n",
    "        if(i<len(results)):\n",
    "            if(results[i] != 6):\n",
    "                result = randint(1,6)\n",
    "                results[i] = result;\n",
    "                while(result == 6):\n",
    "                    result = randint(1,6)\n",
    "                    results.append(result)\n"
   ]
  },
  {
   "cell_type": "code",
   "execution_count": 3,
   "id": "1f96b436",
   "metadata": {},
   "outputs": [],
   "source": [
    "          \n",
    "def kuroRoll(characteristic, gimmiku):\n",
    "    results = []\n",
    "    startingMastery = 0\n",
    "    if('mastery' in gimmiku):\n",
    "        startingMastery = gimmiku['mastery']\n",
    "    if('boost' in gimmiku):\n",
    "        dicePool = characteristic + gimmiku['boost']\n",
    "    else:\n",
    "        dicePool = characteristic\n",
    "    for i in range(dicePool):\n",
    "        result = randint(1,6)\n",
    "        results.append(result)\n",
    "        if('mastery' in gimmiku and gimmiku['mastery'] > 0 and result == 5):     \n",
    "            result = randint(1,6)\n",
    "            results.append(result)\n",
    "            gimmiku['mastery']-= 1\n",
    "        while(result == 6):\n",
    "            result = randint(1,6)\n",
    "            results.append(result)\n",
    "    if('expertise' in gimmiku):\n",
    "        expertise(results, gimmiku)\n",
    "    if('mastery' in gimmiku):\n",
    "        gimmiku['mastery'] = startingMastery\n",
    "        \n",
    "    return results"
   ]
  },
  {
   "cell_type": "code",
   "execution_count": 4,
   "id": "5c8885b8",
   "metadata": {},
   "outputs": [],
   "source": [
    "tn = 12\n",
    "def simulateRolls(characteristic, skill, gimmiku, sampleSize):\n",
    "    scores = []\n",
    "    for i in range(sampleSize):\n",
    "        dieRolls = kuroRoll(characteristic, gimmiku)\n",
    "        scores.append(kuroAdd(dieRolls, skill, gimmiku, tn))\n",
    "    return scores"
   ]
  },
  {
   "cell_type": "code",
   "execution_count": 7,
   "id": "1e391796",
   "metadata": {},
   "outputs": [],
   "source": [
    "characteristic = 2\n",
    "skill = 11\n",
    "runs = 100000\n",
    "gimmikuNames = ['boost', 'mastery', 'focus', 'expertise', 'accuracy', 'No Gimmiku']\n",
    "gimmikuResults = {}\n",
    "for gimmikuName in gimmikuNames:\n",
    "    gimmikuResults[gimmikuName] = simulateRolls(characteristic, skill, {gimmikuName : 2}, runs)"
   ]
  },
  {
   "cell_type": "code",
   "execution_count": 8,
   "id": "00f35f1c",
   "metadata": {},
   "outputs": [
    {
     "name": "stdout",
     "output_type": "stream",
     "text": [
      "gimmiku    average    max  min median mode\n",
      "     boost 24.608000  70  11     24    22\n",
      "   mastery 18.923940  62  11     18    14\n",
      "     focus 21.795960  69  15     21    18\n",
      " expertise 21.542360  70  13     20    17\n",
      "  accuracy 25.586950  85  11     25    24\n",
      "No Gimmiku 17.781910  61  11     17    16\n"
     ]
    }
   ],
   "source": [
    "print(\"gimmiku    average    max  min median mode\")\n",
    "for gimmiku, gimmikuResult in gimmikuResults.items():\n",
    "    stats = {'gimmiku' : gimmiku, 'mean': statistics.mean(gimmikuResult), 'max' : max(gimmikuResult), 'min': min(gimmikuResult), 'median':statistics.median(gimmikuResult), 'mode': statistics.mode(gimmikuResult)}\n",
    "    print(\"%(gimmiku)10s %(mean)f %(max)3d %(min)3d %(median)6d  %(mode)4d\" % stats)"
   ]
  },
  {
   "cell_type": "code",
   "execution_count": null,
   "id": "71c5e2e5",
   "metadata": {},
   "outputs": [
    {
     "data": {
      "image/png": "[encoded data removed]",
      "text/plain": [
       "<Figure size 640x480 with 1 Axes>"
      ]
     },
     "metadata": {},
     "output_type": "display_data"
    },
    {
     "data": {
      "image/png": "[encoded data removed]",
      "text/plain": [
       "<Figure size 640x480 with 1 Axes>"
      ]
     },
     "metadata": {},
     "output_type": "display_data"
    }
   ],
   "source": [
    "\n",
    "for gimmiku, gimmikuResult in gimmikuResults.items():\n",
    "    plt.hist(gimmikuResult, bins=np.arange(min(gimmikuResult), max(gimmikuResult)+1))\n",
    "    plt.title(gimmiku)\n",
    "    plt.show()"
   ]
  },
  {
   "cell_type": "code",
   "execution_count": null,
   "id": "21736617",
   "metadata": {},
   "outputs": [],
   "source": [
    "characteristic = 2\n",
    "gimmikuResultsCharOfTwo = {}\n",
    "for gimmikuName in gimmikuNames:\n",
    "    gimmikuResultsCharOfTwo[gimmikuName] = simulateRolls(1, 5, {gimmikuName : 1}, 100000)"
   ]
  },
  {
   "cell_type": "code",
   "execution_count": null,
   "id": "1954a3bd",
   "metadata": {},
   "outputs": [],
   "source": [
    "print(\"gimmiku      average   max  min median mode\")\n",
    "for gimmiku, gimmikuResult in gimmikuResultsCharOfTwo.items():\n",
    "    stats = {'gimmiku' : gimmiku, 'mean': statistics.mean(gimmikuResult), 'max' : max(gimmikuResult), 'min': min(gimmikuResult), 'median':statistics.median(gimmikuResult), 'mode': statistics.mode(gimmikuResult)}\n",
    "    print(\"%(gimmiku)10s %(mean)10f %(max)3d %(min)3d %(median)6d  %(mode)4d\" % stats)"
   ]
  },
  {
   "cell_type": "code",
   "execution_count": 6,
   "id": "a7e660e4",
   "metadata": {},
   "outputs": [
    {
     "ename": "NameError",
     "evalue": "name 'gimmikuResultsCharOfTwo' is not defined",
     "output_type": "error",
     "traceback": [
      "\u001b[1;31m---------------------------------------------------------------------------\u001b[0m",
      "\u001b[1;31mNameError\u001b[0m                                 Traceback (most recent call last)",
      "Cell \u001b[1;32mIn[6], line 1\u001b[0m\n\u001b[1;32m----> 1\u001b[0m \u001b[38;5;28;01mfor\u001b[39;00m gimmiku, gimmikuResult \u001b[38;5;129;01min\u001b[39;00m \u001b[43mgimmikuResultsCharOfTwo\u001b[49m\u001b[38;5;241m.\u001b[39mitems():\n\u001b[0;32m      2\u001b[0m     plt\u001b[38;5;241m.\u001b[39mhist(gimmikuResult, bins\u001b[38;5;241m=\u001b[39mnp\u001b[38;5;241m.\u001b[39marange(\u001b[38;5;28mmin\u001b[39m(masteryRolls), \u001b[38;5;28mmax\u001b[39m(masteryRolls)\u001b[38;5;241m+\u001b[39m\u001b[38;5;241m1\u001b[39m))\n\u001b[0;32m      3\u001b[0m     plt\u001b[38;5;241m.\u001b[39mtitle(gimmiku)\n",
      "\u001b[1;31mNameError\u001b[0m: name 'gimmikuResultsCharOfTwo' is not defined"
     ]
    }
   ],
   "source": [
    "\n",
    "for gimmiku, gimmikuResult in gimmikuResultsCharOfTwo.items():\n",
    "    plt.hist(gimmikuResult, bins=np.arange(min(masteryRolls), max(masteryRolls)+1))\n",
    "    plt.title(gimmiku)\n",
    "    plt.show()"
   ]
  },
  {
   "cell_type": "code",
   "execution_count": null,
   "id": "9c75f032",
   "metadata": {},
   "outputs": [],
   "source": []
  },
  {
   "cell_type": "code",
   "execution_count": null,
   "id": "3384fc2d",
   "metadata": {},
   "outputs": [],
   "source": []
  }
 ],
 "metadata": {
  "kernelspec": {
   "display_name": "Python 3 (ipykernel)",
   "language": "python",
   "name": "python3"
  },
  "language_info": {
   "codemirror_mode": {
    "name": "ipython",
    "version": 3
   },
   "file_extension": ".py",
   "mimetype": "text/x-python",
   "name": "python",
   "nbconvert_exporter": "python",
   "pygments_lexer": "ipython3",
   "version": "3.10.11"
  }
 },
 "nbformat": 4,
 "nbformat_minor": 5
}
